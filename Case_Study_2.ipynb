{
  "nbformat": 4,
  "nbformat_minor": 0,
  "metadata": {
    "colab": {
      "name": "Case_Study_2.ipynb",
      "provenance": [],
      "authorship_tag": "ABX9TyM8saoMyiz/mxXWS0l9nvwy",
      "include_colab_link": true
    },
    "kernelspec": {
      "name": "python3",
      "display_name": "Python 3"
    },
    "language_info": {
      "name": "python"
    }
  },
  "cells": [
    {
      "cell_type": "markdown",
      "metadata": {
        "id": "view-in-github",
        "colab_type": "text"
      },
      "source": [
        "<a href=\"https://colab.research.google.com/github/shikhargoswami/Cars24_Assessment/blob/main/Case_Study_2.ipynb\" target=\"_parent\"><img src=\"https://colab.research.google.com/assets/colab-badge.svg\" alt=\"Open In Colab\"/></a>"
      ]
    },
    {
      "cell_type": "code",
      "metadata": {
        "id": "0SCQQir9V8qJ"
      },
      "source": [
        "import pandas as pd"
      ],
      "execution_count": 1,
      "outputs": []
    },
    {
      "cell_type": "markdown",
      "metadata": {
        "id": "DLWaod77W-iz"
      },
      "source": [
        "# Creating Dataframes of Customer table and Flight table"
      ]
    },
    {
      "cell_type": "code",
      "metadata": {
        "id": "sYbZRrdxWiEx"
      },
      "source": [
        "s1 = pd.Series(['A123','A456','A789'])\n",
        "s2 = pd.Series(['9342312',\t'6542312',\t'7542312'])\n",
        "s3 = pd.Series(['Delhi',\t'Delhi',\t'Delhi'])\n",
        "s4 = pd.Series(['Mumbai',\t'Mumbai',\t'Mumbai'])\n",
        "s5 = pd.Series(['815',\t'830',\t'845'])\n",
        "s6 = pd.Series(['1730',\t'1015',\t'1330'])\n",
        "cust = pd.DataFrame(pd.concat([s1,s2,s3,s4,s5,s6],axis=1))\n",
        "cust.columns = ['ID',\t'Ticket ID',\t'Origin',\t'Destination',\t'Start time',\t'End time']"
      ],
      "execution_count": 2,
      "outputs": []
    },
    {
      "cell_type": "code",
      "metadata": {
        "id": "oIdESfmwWnxl"
      },
      "source": [
        "s1 = pd.Series(['B99',\t'B89',\t'B69',\t'B79',\t'B59',\t'B49',\t'B39'])\n",
        "s2 = pd.Series(['4042014',\t'4042014',\t'4042014',\t'4042014',\t'4042014',\t'4042014',\t'4042014'])\n",
        "s3 = pd.Series(['Delhi',\t'Delhi',\t'Jaipur',\t'Delhi',\t'Agra',\t'Surat',\t'Pune'])\n",
        "s4 = pd.Series(['Mumbai',\t'Jaipur',\t'Mumbai',\t'Agra',\t'Surat',\t'Pune',\t'Mumbai'])\n",
        "s5 = pd.Series(['830',\t'845',\t'1130',\t'815',\t'1230',\t'1445',\t'1615'])\n",
        "s6 = pd.Series(['1015',\t'1045',\t'1330',\t'1130',\t'1430',\t'1530',\t'1730'])\n",
        "flights = pd.DataFrame(pd.concat([s1,s2,s3,s4,s5,s6],axis=1))\n",
        "flights.columns = ['flight_no','date','orig_port','dest_port',\t'flight_start',\t'flight_end']"
      ],
      "execution_count": 3,
      "outputs": []
    },
    {
      "cell_type": "code",
      "metadata": {
        "colab": {
          "base_uri": "https://localhost:8080/",
          "height": 269
        },
        "id": "zjlN67oWWqkH",
        "outputId": "9425aa57-78c4-4eb2-fd6f-4d0463f21bae"
      },
      "source": [
        "flights"
      ],
      "execution_count": 4,
      "outputs": [
        {
          "output_type": "execute_result",
          "data": {
            "text/html": [
              "<div>\n",
              "<style scoped>\n",
              "    .dataframe tbody tr th:only-of-type {\n",
              "        vertical-align: middle;\n",
              "    }\n",
              "\n",
              "    .dataframe tbody tr th {\n",
              "        vertical-align: top;\n",
              "    }\n",
              "\n",
              "    .dataframe thead th {\n",
              "        text-align: right;\n",
              "    }\n",
              "</style>\n",
              "<table border=\"1\" class=\"dataframe\">\n",
              "  <thead>\n",
              "    <tr style=\"text-align: right;\">\n",
              "      <th></th>\n",
              "      <th>flight_no</th>\n",
              "      <th>date</th>\n",
              "      <th>orig_port</th>\n",
              "      <th>dest_port</th>\n",
              "      <th>flight_start</th>\n",
              "      <th>flight_end</th>\n",
              "    </tr>\n",
              "  </thead>\n",
              "  <tbody>\n",
              "    <tr>\n",
              "      <th>0</th>\n",
              "      <td>B99</td>\n",
              "      <td>4042014</td>\n",
              "      <td>Delhi</td>\n",
              "      <td>Mumbai</td>\n",
              "      <td>830</td>\n",
              "      <td>1015</td>\n",
              "    </tr>\n",
              "    <tr>\n",
              "      <th>1</th>\n",
              "      <td>B89</td>\n",
              "      <td>4042014</td>\n",
              "      <td>Delhi</td>\n",
              "      <td>Jaipur</td>\n",
              "      <td>845</td>\n",
              "      <td>1045</td>\n",
              "    </tr>\n",
              "    <tr>\n",
              "      <th>2</th>\n",
              "      <td>B69</td>\n",
              "      <td>4042014</td>\n",
              "      <td>Jaipur</td>\n",
              "      <td>Mumbai</td>\n",
              "      <td>1130</td>\n",
              "      <td>1330</td>\n",
              "    </tr>\n",
              "    <tr>\n",
              "      <th>3</th>\n",
              "      <td>B79</td>\n",
              "      <td>4042014</td>\n",
              "      <td>Delhi</td>\n",
              "      <td>Agra</td>\n",
              "      <td>815</td>\n",
              "      <td>1130</td>\n",
              "    </tr>\n",
              "    <tr>\n",
              "      <th>4</th>\n",
              "      <td>B59</td>\n",
              "      <td>4042014</td>\n",
              "      <td>Agra</td>\n",
              "      <td>Surat</td>\n",
              "      <td>1230</td>\n",
              "      <td>1430</td>\n",
              "    </tr>\n",
              "    <tr>\n",
              "      <th>5</th>\n",
              "      <td>B49</td>\n",
              "      <td>4042014</td>\n",
              "      <td>Surat</td>\n",
              "      <td>Pune</td>\n",
              "      <td>1445</td>\n",
              "      <td>1530</td>\n",
              "    </tr>\n",
              "    <tr>\n",
              "      <th>6</th>\n",
              "      <td>B39</td>\n",
              "      <td>4042014</td>\n",
              "      <td>Pune</td>\n",
              "      <td>Mumbai</td>\n",
              "      <td>1615</td>\n",
              "      <td>1730</td>\n",
              "    </tr>\n",
              "  </tbody>\n",
              "</table>\n",
              "</div>"
            ],
            "text/plain": [
              "  flight_no     date orig_port dest_port flight_start flight_end\n",
              "0       B99  4042014     Delhi    Mumbai          830       1015\n",
              "1       B89  4042014     Delhi    Jaipur          845       1045\n",
              "2       B69  4042014    Jaipur    Mumbai         1130       1330\n",
              "3       B79  4042014     Delhi      Agra          815       1130\n",
              "4       B59  4042014      Agra     Surat         1230       1430\n",
              "5       B49  4042014     Surat      Pune         1445       1530\n",
              "6       B39  4042014      Pune    Mumbai         1615       1730"
            ]
          },
          "metadata": {},
          "execution_count": 4
        }
      ]
    },
    {
      "cell_type": "code",
      "metadata": {
        "colab": {
          "base_uri": "https://localhost:8080/",
          "height": 143
        },
        "id": "vpaW_le0Wt_D",
        "outputId": "051c24db-d033-4035-b222-34f3b5417130"
      },
      "source": [
        "cust"
      ],
      "execution_count": 5,
      "outputs": [
        {
          "output_type": "execute_result",
          "data": {
            "text/html": [
              "<div>\n",
              "<style scoped>\n",
              "    .dataframe tbody tr th:only-of-type {\n",
              "        vertical-align: middle;\n",
              "    }\n",
              "\n",
              "    .dataframe tbody tr th {\n",
              "        vertical-align: top;\n",
              "    }\n",
              "\n",
              "    .dataframe thead th {\n",
              "        text-align: right;\n",
              "    }\n",
              "</style>\n",
              "<table border=\"1\" class=\"dataframe\">\n",
              "  <thead>\n",
              "    <tr style=\"text-align: right;\">\n",
              "      <th></th>\n",
              "      <th>ID</th>\n",
              "      <th>Ticket ID</th>\n",
              "      <th>Origin</th>\n",
              "      <th>Destination</th>\n",
              "      <th>Start time</th>\n",
              "      <th>End time</th>\n",
              "    </tr>\n",
              "  </thead>\n",
              "  <tbody>\n",
              "    <tr>\n",
              "      <th>0</th>\n",
              "      <td>A123</td>\n",
              "      <td>9342312</td>\n",
              "      <td>Delhi</td>\n",
              "      <td>Mumbai</td>\n",
              "      <td>815</td>\n",
              "      <td>1730</td>\n",
              "    </tr>\n",
              "    <tr>\n",
              "      <th>1</th>\n",
              "      <td>A456</td>\n",
              "      <td>6542312</td>\n",
              "      <td>Delhi</td>\n",
              "      <td>Mumbai</td>\n",
              "      <td>830</td>\n",
              "      <td>1015</td>\n",
              "    </tr>\n",
              "    <tr>\n",
              "      <th>2</th>\n",
              "      <td>A789</td>\n",
              "      <td>7542312</td>\n",
              "      <td>Delhi</td>\n",
              "      <td>Mumbai</td>\n",
              "      <td>845</td>\n",
              "      <td>1330</td>\n",
              "    </tr>\n",
              "  </tbody>\n",
              "</table>\n",
              "</div>"
            ],
            "text/plain": [
              "     ID Ticket ID Origin Destination Start time End time\n",
              "0  A123   9342312  Delhi      Mumbai        815     1730\n",
              "1  A456   6542312  Delhi      Mumbai        830     1015\n",
              "2  A789   7542312  Delhi      Mumbai        845     1330"
            ]
          },
          "metadata": {},
          "execution_count": 5
        }
      ]
    },
    {
      "cell_type": "markdown",
      "metadata": {
        "id": "ekDClItEXF_q"
      },
      "source": [
        "# Finding Recursive Destination"
      ]
    },
    {
      "cell_type": "code",
      "metadata": {
        "id": "6L2RCBVZWwGZ"
      },
      "source": [
        "def find_dest(prev_dest,prev_end_time,final_dest,final_time,df,i):\n",
        "    \n",
        "    a = flights[((flights['orig_port']==prev_dest[0]) & (flights['flight_start']>=prev_end_time[0]))][['dest_port','flight_end','flight_no']]\n",
        "    \n",
        "    df = df.append({'Customer_ID' : cust.loc[i,'ID'], 'Ticket_ID' : cust.loc[i,'Ticket ID'], 'Flight_no' : a.flight_no.values[0]},  \n",
        "                ignore_index = True)\n",
        "    \n",
        "    if ((a.dest_port.values==final_dest) & (a['flight_end'].values==final_time)):\n",
        "        return df\n",
        "        \n",
        "    else:\n",
        "        \n",
        "        return find_dest(a.dest_port.values, a['flight_end'].values,final_dest,final_time,df,i)"
      ],
      "execution_count": 6,
      "outputs": []
    },
    {
      "cell_type": "markdown",
      "metadata": {
        "id": "V-NO9-nAXOdM"
      },
      "source": [
        "#Appending flights from recursive destinations from source"
      ]
    },
    {
      "cell_type": "code",
      "metadata": {
        "id": "BNHFBtCCWzCg"
      },
      "source": [
        "#create empty dataframe to append data to\n",
        "df4 = pd.DataFrame(columns = ['Customer_ID', 'Ticket_ID', 'Flight_no'])\n",
        "\n",
        "for i in range(0,cust.shape[0]):\n",
        "    \n",
        "    cust_orig = cust.loc[i,'Origin']\n",
        "    cust_dest = cust.loc[i,'Destination']\n",
        "    cust_abs_start = cust.loc[i,'Start time']\n",
        "    cust_abs_end = cust.loc[i,'End time']\n",
        "    \n",
        "    \n",
        "    \n",
        "    a1 = flights[((flights['orig_port']==cust_orig) & (flights['flight_start']==cust_abs_start))][['dest_port','flight_end','flight_no']]\n",
        "    \n",
        "    #append flight details of only flight for given time\n",
        "    df4 = df4.append({'Customer_ID' : cust.loc[i,'ID'], 'Ticket_ID' : cust.loc[i,'Ticket ID'], 'Flight_no' : a1.flight_no.values[0]},  \n",
        "                ignore_index = True)\n",
        "    \n",
        "    #check if there is no direct flight\n",
        "    if ((a1.dest_port.values!=cust_dest) & (a1['flight_end'].values!=cust_abs_end)):\n",
        "       df4 = find_dest(a1.dest_port.values,a1['flight_end'].values,cust_dest,cust_abs_end,df4,i)"
      ],
      "execution_count": 7,
      "outputs": []
    },
    {
      "cell_type": "code",
      "metadata": {
        "colab": {
          "base_uri": "https://localhost:8080/",
          "height": 269
        },
        "id": "GEg60TlVW51-",
        "outputId": "a2f9c69b-dd6c-47a4-d7d0-6276ec2a6392"
      },
      "source": [
        "df4"
      ],
      "execution_count": 8,
      "outputs": [
        {
          "output_type": "execute_result",
          "data": {
            "text/html": [
              "<div>\n",
              "<style scoped>\n",
              "    .dataframe tbody tr th:only-of-type {\n",
              "        vertical-align: middle;\n",
              "    }\n",
              "\n",
              "    .dataframe tbody tr th {\n",
              "        vertical-align: top;\n",
              "    }\n",
              "\n",
              "    .dataframe thead th {\n",
              "        text-align: right;\n",
              "    }\n",
              "</style>\n",
              "<table border=\"1\" class=\"dataframe\">\n",
              "  <thead>\n",
              "    <tr style=\"text-align: right;\">\n",
              "      <th></th>\n",
              "      <th>Customer_ID</th>\n",
              "      <th>Ticket_ID</th>\n",
              "      <th>Flight_no</th>\n",
              "    </tr>\n",
              "  </thead>\n",
              "  <tbody>\n",
              "    <tr>\n",
              "      <th>0</th>\n",
              "      <td>A123</td>\n",
              "      <td>9342312</td>\n",
              "      <td>B79</td>\n",
              "    </tr>\n",
              "    <tr>\n",
              "      <th>1</th>\n",
              "      <td>A123</td>\n",
              "      <td>9342312</td>\n",
              "      <td>B59</td>\n",
              "    </tr>\n",
              "    <tr>\n",
              "      <th>2</th>\n",
              "      <td>A123</td>\n",
              "      <td>9342312</td>\n",
              "      <td>B49</td>\n",
              "    </tr>\n",
              "    <tr>\n",
              "      <th>3</th>\n",
              "      <td>A123</td>\n",
              "      <td>9342312</td>\n",
              "      <td>B39</td>\n",
              "    </tr>\n",
              "    <tr>\n",
              "      <th>4</th>\n",
              "      <td>A456</td>\n",
              "      <td>6542312</td>\n",
              "      <td>B99</td>\n",
              "    </tr>\n",
              "    <tr>\n",
              "      <th>5</th>\n",
              "      <td>A789</td>\n",
              "      <td>7542312</td>\n",
              "      <td>B89</td>\n",
              "    </tr>\n",
              "    <tr>\n",
              "      <th>6</th>\n",
              "      <td>A789</td>\n",
              "      <td>7542312</td>\n",
              "      <td>B69</td>\n",
              "    </tr>\n",
              "  </tbody>\n",
              "</table>\n",
              "</div>"
            ],
            "text/plain": [
              "  Customer_ID Ticket_ID Flight_no\n",
              "0        A123   9342312       B79\n",
              "1        A123   9342312       B59\n",
              "2        A123   9342312       B49\n",
              "3        A123   9342312       B39\n",
              "4        A456   6542312       B99\n",
              "5        A789   7542312       B89\n",
              "6        A789   7542312       B69"
            ]
          },
          "metadata": {},
          "execution_count": 8
        }
      ]
    },
    {
      "cell_type": "code",
      "metadata": {
        "id": "EIdoNxiEW8sL"
      },
      "source": [
        ""
      ],
      "execution_count": null,
      "outputs": []
    }
  ]
}